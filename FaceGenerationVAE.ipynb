{
 "cells": [
  {
   "cell_type": "markdown",
   "metadata": {},
   "source": [
    "VAE with disentanglement"
   ]
  },
  {
   "cell_type": "code",
   "execution_count": 46,
   "metadata": {},
   "outputs": [],
   "source": [
    "from __future__ import print_function\n",
    "import argparse\n",
    "import torch\n",
    "import torch.utils.data\n",
    "from torch import nn, optim\n",
    "from torch.nn import functional as F\n",
    "import torch.utils.data.dataloader as dataloader\n",
    "from torchvision import datasets, transforms\n",
    "from torchvision.utils import save_image\n",
    "import matplotlib.pyplot as plt\n",
    "\n",
    "from PIL import Image\n",
    "\n",
    "batchsize = 15\n",
    "epochs=1000\n",
    "loginterval=10\n",
    "cuda = torch.cuda.is_available()\n",
    "\n",
    "SEED = 1\n",
    "torch.manual_seed(SEED)\n",
    "\n",
    "device = torch.device(\"cuda\" if cuda else \"cpu\")\n"
   ]
  },
  {
   "cell_type": "code",
   "execution_count": 47,
   "metadata": {},
   "outputs": [],
   "source": [
    "transformations = transforms.Compose([transforms.Grayscale(),\n",
    "    transforms.RandomHorizontalFlip(),\n",
    "    transforms.RandomRotation(20, resample=Image.BILINEAR),\n",
    "    transforms.ToTensor()\n",
    "])\n",
    "image_data = datasets.ImageFolder('Face2',transformations)\n",
    "\n",
    "### Split the data_set into a train and test dataset where 80% of the data as are used for training.\n",
    "train_size = int(0.8 * len(image_data))\n",
    "test_size = len(image_data) - train_size\n",
    "train_dataset, test_dataset = torch.utils.data.random_split(image_data, [train_size, test_size])"
   ]
  },
  {
   "cell_type": "code",
   "execution_count": 48,
   "metadata": {},
   "outputs": [],
   "source": [
    "# Loading datas 4 by 4 \n",
    "dataloader_args = dict(shuffle=True, batch_size=4,num_workers=4, pin_memory=True)\n",
    "train_loader = dataloader.DataLoader(train_dataset, **dataloader_args)\n",
    "# Loading the test datas in one step \n",
    "dataloader_args = dict(shuffle=True, batch_size=len(test_dataset),num_workers=4, pin_memory=True)\n",
    "test_loader = dataloader.DataLoader(test_dataset, **dataloader_args)"
   ]
  },
  {
   "cell_type": "code",
   "execution_count": 49,
   "metadata": {},
   "outputs": [],
   "source": [
    "class VAE(nn.Module):\n",
    "    def __init__(self):\n",
    "        super(VAE, self).__init__()\n",
    "\n",
    "        # create using nn.Sequential()\n",
    "        # decoder :FC (20 -> 400), RELU activation; FC (400, 784)\n",
    "\n",
    "        self.fc1=nn.Linear(64*64,400)\n",
    "        self.fcmu=nn.Linear(400,20)\n",
    "        self.fcvar=nn.Linear(400,20)\n",
    "        \n",
    "        self.decoder = nn.Sequential(\n",
    "                nn.Linear(20, 400),\n",
    "                nn.ReLU(),\n",
    "                nn.Linear(400, 64*64),\n",
    "                )\n",
    "        # and without using nn.Sequential, an encoder\n",
    "        #FC (784 -> 400), RELU activation\n",
    "        # then in parallel a FC (400, 20) for each mu / logvar\n",
    "\n",
    "    def encode(self, x):\n",
    "        relu_x = F.relu(self.fc1(x))\n",
    "        mu = self.fcmu(relu_x)\n",
    "        logvar = self.fcvar(relu_x)\n",
    "        return mu, logvar\n",
    "\n",
    "    def reparameterize(self, mu, logvar):\n",
    "        # sample\n",
    "        std = torch.exp(0.5*logvar)\n",
    "        eps = torch.randn_like(std)\n",
    "        \n",
    "        return eps.mul(std).add_(mu)\n",
    "\n",
    "    def decode(self, z):\n",
    "        return torch.sigmoid(self.decoder(z))\n",
    "\n",
    "    def forward(self, x):\n",
    "        mu, logvar = self.encode(x.view(-1, 64*64))\n",
    "        z = self.reparameterize(mu, logvar)\n",
    "        return self.decode(z), mu, logvar\n",
    "\n",
    "model = VAE().to(device)\n",
    "optimizer = optim.Adam(model.parameters(), lr=1e-3)\n",
    "\n",
    "losses = []\n",
    "gradients = []"
   ]
  },
  {
   "cell_type": "code",
   "execution_count": 50,
   "metadata": {},
   "outputs": [],
   "source": [
    "def loss_function(recon_batch, x, mu, logvar, beta):\n",
    "    # compute binary cross entropy summed across the batch\n",
    "    #bce = nn.BCELoss(size_average=False)\n",
    "    bce = F.binary_cross_entropy(recon_batch, x.view(-1, 64*64), reduction='sum')\n",
    "    #   Kullback-Leibler divergence losses summed over all elements and batch\n",
    "    #kld = nn.KLDivLoss(size_average=False)\n",
    "    kld = -0.5 * torch.sum(1 + logvar - mu.pow(2) - logvar.exp())\n",
    "    # the beta factor allows disentanglement for values >>1\n",
    "    return bce+kld*beta"
   ]
  },
  {
   "cell_type": "code",
   "execution_count": 51,
   "metadata": {},
   "outputs": [],
   "source": [
    "def train(epoch, beta):\n",
    "    model.train()\n",
    "    train_loss = 0\n",
    "    for batch_idx, (data, _) in enumerate(train_loader):\n",
    "        data = data.to(device)\n",
    "        optimizer.zero_grad()\n",
    "        recon_batch, mu, logvar = model(data)\n",
    "        loss = loss_function(recon_batch, data, mu, logvar, beta)\n",
    "        losses.append(loss.cpu().item())\n",
    "        loss.backward()\n",
    "        train_loss += loss.item()\n",
    "        optimizer.step()\n",
    "        if batch_idx % loginterval == 0:\n",
    "            print('\\r Train Epoch: {} [{}/{} ({:.0f}%)]\\tLoss: {:.1f}'.format(\n",
    "                epoch, batch_idx * len(data), len(train_loader.dataset),\n",
    "                100. * batch_idx / len(train_loader),\n",
    "                loss.item() / len(data)), end='')\n",
    "\n",
    "    print(' Average loss: {:.1f}'.format(\n",
    "         train_loss / len(train_loader.dataset)), end='')"
   ]
  },
  {
   "cell_type": "code",
   "execution_count": 52,
   "metadata": {},
   "outputs": [],
   "source": [
    "def test(epoch, beta):\n",
    "    model.eval()\n",
    "    test_loss = 0\n",
    "    with torch.no_grad():\n",
    "        for i, (data, _) in enumerate(test_loader):\n",
    "            recon_batch, mu, logvar = model(data)\n",
    "            test_loss += loss_function(recon_batch, data, mu, logvar,beta)\n",
    "\n",
    "            if i == 0:\n",
    "                n = min(data.size(0), 8)\n",
    "                comparison = torch.cat([data[:n],\n",
    "                                      recon_batch.view(-1, 1, 64, 64)[:n]])\n",
    "                save_image(comparison.cpu(),\n",
    "                         'results/reconstruction_' + str(epoch) + '.png', nrow=n)\n",
    "\n",
    "    test_loss /= len(test_loader.dataset)\n",
    "    print(' Test loss: {:.1f}'.format(test_loss))"
   ]
  },
  {
   "cell_type": "code",
   "execution_count": null,
   "metadata": {
    "scrolled": false
   },
   "outputs": [],
   "source": [
    "beta = 20\n",
    "for epoch in range(1, epochs + 1):\n",
    "    train(epoch, beta)\n",
    "    test(epoch, beta)\n",
    "    with torch.no_grad():\n",
    "         sample = torch.randn(64, 20).to(device)\n",
    "         sample = model.decode(sample).cpu()\n",
    "         save_image(sample.view(-1, 1, 64, 64), 'results/sample_' + str(epoch) + '.png')    "
   ]
  },
  {
   "cell_type": "code",
   "execution_count": 41,
   "metadata": {},
   "outputs": [],
   "source": [
    "# sample = torch.empty(64, 20)\n",
    "\n",
    "# create a batch of 8x8 inputs sampled from normal distribution\n",
    "# observe the image with different values of beta (0, 1, 10, 100)\n",
    "\n",
    "save_image(sample.view(-1, 1, 64, 64), 'results/sample_continuous.png')"
   ]
  },
  {
   "cell_type": "code",
   "execution_count": 2,
   "metadata": {
    "scrolled": true
   },
   "outputs": [],
   "source": [
    "# plot losses\n",
    "plt.plot(losses)"
   ]
  },
  {
   "cell_type": "code",
   "execution_count": 4,
   "metadata": {},
   "outputs": [],
   "source": [
    "#plot the gradient mean value for each FC layer across training\n",
    "plt.plot(gradients)"
   ]
  }
 ],
 "metadata": {
  "kernelspec": {
   "display_name": "Python 3",
   "language": "python",
   "name": "python3"
  },
  "language_info": {
   "codemirror_mode": {
    "name": "ipython",
    "version": 3
   },
   "file_extension": ".py",
   "mimetype": "text/x-python",
   "name": "python",
   "nbconvert_exporter": "python",
   "pygments_lexer": "ipython3",
   "version": "3.6.2"
  }
 },
 "nbformat": 4,
 "nbformat_minor": 2
}
