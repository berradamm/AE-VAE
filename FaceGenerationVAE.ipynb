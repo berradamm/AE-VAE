{
 "cells": [
  {
   "cell_type": "markdown",
   "metadata": {},
   "source": [
    "VAE with disentanglement"
   ]
  },
  {
   "cell_type": "code",
   "execution_count": 46,
   "metadata": {},
   "outputs": [],
   "source": [
    "from __future__ import print_function\n",
    "import argparse\n",
    "import torch\n",
    "import torch.utils.data\n",
    "from torch import nn, optim\n",
    "from torch.nn import functional as F\n",
    "import torch.utils.data.dataloader as dataloader\n",
    "from torchvision import datasets, transforms\n",
    "from torchvision.utils import save_image\n",
    "import matplotlib.pyplot as plt\n",
    "\n",
    "from PIL import Image\n",
    "\n",
    "batchsize = 15\n",
    "epochs=1000\n",
    "loginterval=10\n",
    "cuda = torch.cuda.is_available()\n",
    "\n",
    "SEED = 1\n",
    "torch.manual_seed(SEED)\n",
    "\n",
    "device = torch.device(\"cuda\" if cuda else \"cpu\")\n"
   ]
  },
  {
   "cell_type": "code",
   "execution_count": 47,
   "metadata": {},
   "outputs": [],
   "source": [
    "transformations = transforms.Compose([transforms.Grayscale(),\n",
    "    transforms.RandomHorizontalFlip(),\n",
    "    transforms.RandomRotation(20, resample=Image.BILINEAR),\n",
    "    transforms.ToTensor()\n",
    "])\n",
    "image_data = datasets.ImageFolder('Face2',transformations)\n",
    "\n",
    "### Split the data_set into a train and test dataset where 80% of the data as are used for training.\n",
    "train_size = int(0.8 * len(image_data))\n",
    "test_size = len(image_data) - train_size\n",
    "train_dataset, test_dataset = torch.utils.data.random_split(image_data, [train_size, test_size])"
   ]
  },
  {
   "cell_type": "code",
   "execution_count": 48,
   "metadata": {},
   "outputs": [],
   "source": [
    "# Loading datas 4 by 4 \n",
    "dataloader_args = dict(shuffle=True, batch_size=4,num_workers=4, pin_memory=True)\n",
    "train_loader = dataloader.DataLoader(train_dataset, **dataloader_args)\n",
    "# Loading the test datas in one step \n",
    "dataloader_args = dict(shuffle=True, batch_size=len(test_dataset),num_workers=4, pin_memory=True)\n",
    "test_loader = dataloader.DataLoader(test_dataset, **dataloader_args)"
   ]
  },
  {
   "cell_type": "code",
   "execution_count": 49,
   "metadata": {},
   "outputs": [],
   "source": [
    "class VAE(nn.Module):\n",
    "    def __init__(self):\n",
    "        super(VAE, self).__init__()\n",
    "\n",
    "        # create using nn.Sequential()\n",
    "        # decoder :FC (20 -> 400), RELU activation; FC (400, 784)\n",
    "\n",
    "        self.fc1=nn.Linear(64*64,400)\n",
    "        self.fcmu=nn.Linear(400,20)\n",
    "        self.fcvar=nn.Linear(400,20)\n",
    "        \n",
    "        self.decoder = nn.Sequential(\n",
    "                nn.Linear(20, 400),\n",
    "                nn.ReLU(),\n",
    "                nn.Linear(400, 64*64),\n",
    "                )\n",
    "        # and without using nn.Sequential, an encoder\n",
    "        #FC (784 -> 400), RELU activation\n",
    "        # then in parallel a FC (400, 20) for each mu / logvar\n",
    "\n",
    "    def encode(self, x):\n",
    "        relu_x = F.relu(self.fc1(x))\n",
    "        mu = self.fcmu(relu_x)\n",
    "        logvar = self.fcvar(relu_x)\n",
    "        return mu, logvar\n",
    "\n",
    "    def reparameterize(self, mu, logvar):\n",
    "        # sample\n",
    "        std = torch.exp(0.5*logvar)\n",
    "        eps = torch.randn_like(std)\n",
    "        \n",
    "        return eps.mul(std).add_(mu)\n",
    "\n",
    "    def decode(self, z):\n",
    "        return torch.sigmoid(self.decoder(z))\n",
    "\n",
    "    def forward(self, x):\n",
    "        mu, logvar = self.encode(x.view(-1, 64*64))\n",
    "        z = self.reparameterize(mu, logvar)\n",
    "        return self.decode(z), mu, logvar\n",
    "\n",
    "model = VAE().to(device)\n",
    "optimizer = optim.Adam(model.parameters(), lr=1e-3)\n",
    "\n",
    "losses = []\n",
    "gradients = []"
   ]
  },
  {
   "cell_type": "code",
   "execution_count": 50,
   "metadata": {},
   "outputs": [],
   "source": [
    "def loss_function(recon_batch, x, mu, logvar, beta):\n",
    "    # compute binary cross entropy summed across the batch\n",
    "    #bce = nn.BCELoss(size_average=False)\n",
    "    bce = F.binary_cross_entropy(recon_batch, x.view(-1, 64*64), reduction='sum')\n",
    "    #   Kullback-Leibler divergence losses summed over all elements and batch\n",
    "    #kld = nn.KLDivLoss(size_average=False)\n",
    "    kld = -0.5 * torch.sum(1 + logvar - mu.pow(2) - logvar.exp())\n",
    "    # the beta factor allows disentanglement for values >>1\n",
    "    return bce+kld*beta"
   ]
  },
  {
   "cell_type": "code",
   "execution_count": 51,
   "metadata": {},
   "outputs": [],
   "source": [
    "def train(epoch, beta):\n",
    "    model.train()\n",
    "    train_loss = 0\n",
    "    for batch_idx, (data, _) in enumerate(train_loader):\n",
    "        data = data.to(device)\n",
    "        optimizer.zero_grad()\n",
    "        recon_batch, mu, logvar = model(data)\n",
    "        loss = loss_function(recon_batch, data, mu, logvar, beta)\n",
    "        losses.append(loss.cpu().item())\n",
    "        loss.backward()\n",
    "        train_loss += loss.item()\n",
    "        optimizer.step()\n",
    "        if batch_idx % loginterval == 0:\n",
    "            print('\\r Train Epoch: {} [{}/{} ({:.0f}%)]\\tLoss: {:.1f}'.format(\n",
    "                epoch, batch_idx * len(data), len(train_loader.dataset),\n",
    "                100. * batch_idx / len(train_loader),\n",
    "                loss.item() / len(data)), end='')\n",
    "\n",
    "    print(' Average loss: {:.1f}'.format(\n",
    "         train_loss / len(train_loader.dataset)), end='')"
   ]
  },
  {
   "cell_type": "code",
   "execution_count": 52,
   "metadata": {},
   "outputs": [],
   "source": [
    "def test(epoch, beta):\n",
    "    model.eval()\n",
    "    test_loss = 0\n",
    "    with torch.no_grad():\n",
    "        for i, (data, _) in enumerate(test_loader):\n",
    "            recon_batch, mu, logvar = model(data)\n",
    "            test_loss += loss_function(recon_batch, data, mu, logvar,beta)\n",
    "\n",
    "            if i == 0:\n",
    "                n = min(data.size(0), 8)\n",
    "                comparison = torch.cat([data[:n],\n",
    "                                      recon_batch.view(-1, 1, 64, 64)[:n]])\n",
    "                save_image(comparison.cpu(),\n",
    "                         'results/reconstruction_' + str(epoch) + '.png', nrow=n)\n",
    "\n",
    "    test_loss /= len(test_loader.dataset)\n",
    "    print(' Test loss: {:.1f}'.format(test_loss))"
   ]
  },
  {
   "cell_type": "code",
   "execution_count": null,
   "metadata": {
    "scrolled": false
   },
   "outputs": [
    {
     "name": "stdout",
     "output_type": "stream",
     "text": [
      " Train Epoch: 1 [160/193 (82%)]\tLoss: 2888.9 Average loss: 2679.5 Test loss: 2644.2\n",
      " Train Epoch: 2 [160/193 (82%)]\tLoss: 2652.5 Average loss: 2600.8 Test loss: 2626.2\n",
      " Train Epoch: 3 [160/193 (82%)]\tLoss: 2687.1 Average loss: 2592.3 Test loss: 2583.3\n",
      " Train Epoch: 4 [160/193 (82%)]\tLoss: 2480.8 Average loss: 2557.0 Test loss: 2544.8\n",
      " Train Epoch: 5 [160/193 (82%)]\tLoss: 2823.0 Average loss: 2500.2 Test loss: 2519.3\n",
      " Train Epoch: 6 [160/193 (82%)]\tLoss: 2462.7 Average loss: 2528.0 Test loss: 2532.8\n",
      " Train Epoch: 7 [160/193 (82%)]\tLoss: 2591.5 Average loss: 2509.8 Test loss: 2506.2\n",
      " Train Epoch: 8 [160/193 (82%)]\tLoss: 2538.6 Average loss: 2493.8 Test loss: 2481.7\n",
      " Train Epoch: 9 [160/193 (82%)]\tLoss: 2794.6 Average loss: 2500.3 Test loss: 2515.6\n",
      " Train Epoch: 10 [160/193 (82%)]\tLoss: 2549.7 Average loss: 2515.3 Test loss: 2441.2\n",
      " Train Epoch: 11 [160/193 (82%)]\tLoss: 2788.9 Average loss: 2470.2 Test loss: 2497.8\n",
      " Train Epoch: 12 [160/193 (82%)]\tLoss: 2335.1 Average loss: 2480.8 Test loss: 2455.3\n",
      " Train Epoch: 13 [160/193 (82%)]\tLoss: 2622.0 Average loss: 2436.8 Test loss: 2477.0\n",
      " Train Epoch: 14 [160/193 (82%)]\tLoss: 2676.6 Average loss: 2444.8 Test loss: 2476.2\n",
      " Train Epoch: 15 [160/193 (82%)]\tLoss: 2514.6 Average loss: 2455.5 Test loss: 2461.0\n",
      " Train Epoch: 16 [160/193 (82%)]\tLoss: 2347.8 Average loss: 2446.6 Test loss: 2465.0\n",
      " Train Epoch: 17 [160/193 (82%)]\tLoss: 2617.4 Average loss: 2437.6 Test loss: 2449.6\n",
      " Train Epoch: 18 [160/193 (82%)]\tLoss: 2314.0 Average loss: 2448.6 Test loss: 2431.7\n",
      " Train Epoch: 19 [160/193 (82%)]\tLoss: 2261.9 Average loss: 2435.1 Test loss: 2482.3\n",
      " Train Epoch: 20 [160/193 (82%)]\tLoss: 2355.2 Average loss: 2442.3 Test loss: 2461.2\n",
      " Train Epoch: 21 [160/193 (82%)]\tLoss: 2679.5 Average loss: 2448.4 Test loss: 2446.4\n",
      " Train Epoch: 22 [160/193 (82%)]\tLoss: 2454.7 Average loss: 2433.2 Test loss: 2494.6\n",
      " Train Epoch: 23 [160/193 (82%)]\tLoss: 2710.7 Average loss: 2426.6 Test loss: 2435.5\n",
      " Train Epoch: 24 [160/193 (82%)]\tLoss: 2012.3 Average loss: 2453.9 Test loss: 2448.3\n",
      " Train Epoch: 25 [160/193 (82%)]\tLoss: 2567.6 Average loss: 2443.2 Test loss: 2410.8\n",
      " Train Epoch: 26 [160/193 (82%)]\tLoss: 2730.9 Average loss: 2415.8 Test loss: 2441.7\n",
      " Train Epoch: 27 [160/193 (82%)]\tLoss: 2168.5 Average loss: 2420.9 Test loss: 2404.2\n",
      " Train Epoch: 28 [160/193 (82%)]\tLoss: 2487.7 Average loss: 2420.8 Test loss: 2496.1\n",
      " Train Epoch: 29 [160/193 (82%)]\tLoss: 2093.1 Average loss: 2425.6 Test loss: 2453.3\n",
      " Train Epoch: 30 [160/193 (82%)]\tLoss: 2258.3 Average loss: 2410.2 Test loss: 2446.2\n",
      " Train Epoch: 31 [160/193 (82%)]\tLoss: 2427.1 Average loss: 2414.1 Test loss: 2452.3\n",
      " Train Epoch: 32 [160/193 (82%)]\tLoss: 2515.3 Average loss: 2394.5 Test loss: 2418.6\n",
      " Train Epoch: 33 [160/193 (82%)]\tLoss: 2464.7 Average loss: 2399.8 Test loss: 2441.0\n",
      " Train Epoch: 34 [160/193 (82%)]\tLoss: 2377.5 Average loss: 2400.5 Test loss: 2397.7\n",
      " Train Epoch: 35 [160/193 (82%)]\tLoss: 2587.2 Average loss: 2398.0 Test loss: 2468.9\n",
      " Train Epoch: 36 [160/193 (82%)]\tLoss: 2414.4 Average loss: 2413.3 Test loss: 2415.2\n",
      " Train Epoch: 37 [160/193 (82%)]\tLoss: 2284.2 Average loss: 2416.1 Test loss: 2408.2\n",
      " Train Epoch: 38 [160/193 (82%)]\tLoss: 2130.3 Average loss: 2380.6 Test loss: 2380.9\n",
      " Train Epoch: 39 [160/193 (82%)]\tLoss: 2263.0 Average loss: 2381.8 Test loss: 2399.9\n",
      " Train Epoch: 40 [160/193 (82%)]\tLoss: 2431.9 Average loss: 2365.2 Test loss: 2389.0\n",
      " Train Epoch: 41 [160/193 (82%)]\tLoss: 2886.5 Average loss: 2389.1 Test loss: 2382.3\n",
      " Train Epoch: 42 [160/193 (82%)]\tLoss: 2396.8 Average loss: 2378.6 Test loss: 2394.2\n",
      " Train Epoch: 43 [160/193 (82%)]\tLoss: 2537.0 Average loss: 2381.7 Test loss: 2373.4\n",
      " Train Epoch: 44 [160/193 (82%)]\tLoss: 2179.5 Average loss: 2350.6 Test loss: 2393.9\n",
      " Train Epoch: 45 [160/193 (82%)]\tLoss: 2385.6 Average loss: 2363.1 Test loss: 2357.0\n",
      " Train Epoch: 46 [160/193 (82%)]\tLoss: 2461.4 Average loss: 2352.9 Test loss: 2380.6\n",
      " Train Epoch: 47 [160/193 (82%)]\tLoss: 2285.8 Average loss: 2356.9 Test loss: 2367.9\n",
      " Train Epoch: 48 [160/193 (82%)]\tLoss: 2574.2 Average loss: 2342.3 Test loss: 2384.4\n",
      " Train Epoch: 49 [160/193 (82%)]\tLoss: 2392.2 Average loss: 2358.3 Test loss: 2382.7\n",
      " Train Epoch: 50 [160/193 (82%)]\tLoss: 2050.5 Average loss: 2352.2 Test loss: 2351.2\n",
      " Train Epoch: 51 [160/193 (82%)]\tLoss: 2250.6 Average loss: 2340.4 Test loss: 2350.1\n",
      " Train Epoch: 52 [160/193 (82%)]\tLoss: 2184.2 Average loss: 2338.4 Test loss: 2379.7\n",
      " Train Epoch: 53 [160/193 (82%)]\tLoss: 2032.4 Average loss: 2325.6 Test loss: 2335.9\n",
      " Train Epoch: 54 [160/193 (82%)]\tLoss: 2310.8 Average loss: 2313.9 Test loss: 2348.8\n",
      " Train Epoch: 55 [160/193 (82%)]\tLoss: 2290.5 Average loss: 2327.9 Test loss: 2371.7\n",
      " Train Epoch: 56 [160/193 (82%)]\tLoss: 2482.2 Average loss: 2331.6 Test loss: 2424.5\n",
      " Train Epoch: 57 [160/193 (82%)]\tLoss: 2495.1 Average loss: 2328.6 Test loss: 2342.6\n",
      " Train Epoch: 58 [160/193 (82%)]\tLoss: 2408.4 Average loss: 2326.0 Test loss: 2353.9\n",
      " Train Epoch: 59 [160/193 (82%)]\tLoss: 1959.3 Average loss: 2333.8 Test loss: 2371.7\n",
      " Train Epoch: 60 [160/193 (82%)]\tLoss: 2125.3 Average loss: 2335.7 Test loss: 2339.9\n",
      " Train Epoch: 61 [160/193 (82%)]\tLoss: 2361.2"
     ]
    }
   ],
   "source": [
    "beta = 20\n",
    "for epoch in range(1, epochs + 1):\n",
    "    train(epoch, beta)\n",
    "    test(epoch, beta)\n",
    "    with torch.no_grad():\n",
    "         sample = torch.randn(64, 20).to(device)\n",
    "         sample = model.decode(sample).cpu()\n",
    "         save_image(sample.view(-1, 1, 64, 64), 'results/sample_' + str(epoch) + '.png')    "
   ]
  },
  {
   "cell_type": "code",
   "execution_count": 41,
   "metadata": {},
   "outputs": [],
   "source": [
    "# sample = torch.empty(64, 20)\n",
    "\n",
    "# create a batch of 8x8 inputs sampled from normal distribution\n",
    "# observe the image with different values of beta (0, 1, 10, 100)\n",
    "\n",
    "save_image(sample.view(-1, 1, 64, 64), 'results/sample_continuous.png')"
   ]
  },
  {
   "cell_type": "code",
   "execution_count": 42,
   "metadata": {
    "scrolled": true
   },
   "outputs": [
    {
     "data": {
      "text/plain": [
       "[<matplotlib.lines.Line2D at 0x1b6e3784e10>]"
      ]
     },
     "execution_count": 42,
     "metadata": {},
     "output_type": "execute_result"
    },
    {
     "data": {
      "image/png": "[encoded data removed]",
      "text/plain": [
       "<Figure size 432x288 with 1 Axes>"
      ]
     },
     "metadata": {
      "needs_background": "light"
     },
     "output_type": "display_data"
    }
   ],
   "source": [
    "# plot losses\n",
    "plt.plot(losses)"
   ]
  },
  {
   "cell_type": "code",
   "execution_count": 9,
   "metadata": {},
   "outputs": [
    {
     "data": {
      "text/plain": [
       "[<matplotlib.lines.Line2D at 0x7fa327956c18>]"
      ]
     },
     "execution_count": 9,
     "metadata": {},
     "output_type": "execute_result"
    },
    {
     "data": {
      "image/png": "[encoded data removed]",
      "text/plain": [
       "<Figure size 432x288 with 1 Axes>"
      ]
     },
     "metadata": {
      "needs_background": "light"
     },
     "output_type": "display_data"
    }
   ],
   "source": [
    "#plot the gradient mean value for each FC layer across training\n",
    "plt.plot(gradients)"
   ]
  }
 ],
 "metadata": {
  "kernelspec": {
   "display_name": "Python 3",
   "language": "python",
   "name": "python3"
  },
  "language_info": {
   "codemirror_mode": {
    "name": "ipython",
    "version": 3
   },
   "file_extension": ".py",
   "mimetype": "text/x-python",
   "name": "python",
   "nbconvert_exporter": "python",
   "pygments_lexer": "ipython3",
   "version": "3.6.2"
  }
 },
 "nbformat": 4,
 "nbformat_minor": 2
}
